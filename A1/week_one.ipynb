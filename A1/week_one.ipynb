{
 "cells": [
  {
   "attachments": {},
   "cell_type": "markdown",
   "metadata": {},
   "source": [
    "Queremos encontrar a distribuição de uma variável, por exemplo mortalidade por covid19, em função do tempo tendo as seguintes informações:\n",
    "- semana 1: 2000 mortes\n",
    "- semana 3: 10000 mortes\n",
    "- semana 6: 7000 mortes\n",
    "\n",
    "Passos:\n",
    "\n",
    "1º passo introduzimos as variáveis (x,y) = (semanas, mortalidade)\n",
    "\n",
    "\n",
    "2º passo normalizamos y = mortalidade/1000\n",
    "\n",
    "\n",
    "\n",
    "Teremos então 3 pontos no plano: A(1,2), B(3,10) e C(6, 7)"
   ]
  }
 ],
 "metadata": {
  "language_info": {
   "name": "python"
  },
  "orig_nbformat": 4
 },
 "nbformat": 4,
 "nbformat_minor": 2
}
